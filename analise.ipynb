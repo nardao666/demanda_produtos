{
 "cells": [
  {
   "cell_type": "markdown",
   "metadata": {},
   "source": [
    "# Análise dos Dados"
   ]
  },
  {
   "cell_type": "code",
   "execution_count": null,
   "metadata": {},
   "outputs": [],
   "source": [
    "import pandas as pd\n",
    "import plotly.express as px\n",
    "import numpy as np"
   ]
  },
  {
   "cell_type": "markdown",
   "metadata": {},
   "source": [
    "Leitura do arquivo"
   ]
  },
  {
   "cell_type": "code",
   "execution_count": null,
   "metadata": {},
   "outputs": [],
   "source": [
    "data = pd.read_csv('dataset-case-iqvia.csv', sep=',', chunksize=1000)\n",
    "df = pd.concat(data)"
   ]
  },
  {
   "cell_type": "code",
   "execution_count": null,
   "metadata": {},
   "outputs": [],
   "source": [
    "df = pd.read_csv('dataset-case-iqvia.csv', sep=',')"
   ]
  },
  {
   "cell_type": "markdown",
   "metadata": {},
   "source": [
    "Colunas que tem no arquivo"
   ]
  },
  {
   "cell_type": "code",
   "execution_count": null,
   "metadata": {},
   "outputs": [],
   "source": [
    "df.columns"
   ]
  },
  {
   "cell_type": "markdown",
   "metadata": {},
   "source": [
    "**week_dt**: data correspondente ao primeiro dia da semana.\n",
    "\n",
    "**dsupp_id**: código de identificação do distribuidor do produto.\n",
    "\n",
    "**product_id**: código de identificação do produto.\n",
    "\n",
    "**region_nm**: macrorregião do ibge cuja loja na qual o produto foi vendido está situada.\n",
    "\n",
    "**units_qty**: quantidade de unidades vendidas na semana.\n",
    "\n",
    "**product_attr_1 , product_attr_2 e product_attr_3**: atributos específicos dos produtos."
   ]
  },
  {
   "cell_type": "code",
   "execution_count": null,
   "metadata": {},
   "outputs": [],
   "source": [
    "df.info()"
   ]
  },
  {
   "cell_type": "code",
   "execution_count": null,
   "metadata": {},
   "outputs": [],
   "source": [
    "df['week_dt'] = pd.to_datetime(df['week_dt']).dt.date\n",
    "df['region_nm'] = df['region_nm'].astype(str)\n",
    "df['product_id'] = df['product_id'].astype(str)\n",
    "df['dsupp_id'] = df['dsupp_id'].astype(str)\n",
    "df['product_attr_1'] = df['product_attr_1'].astype(str)\n",
    "df['product_attr_2'] = df['product_attr_2'].astype(str)\n",
    "df['product_attr_3'] = df['product_attr_3'].astype(str)"
   ]
  },
  {
   "cell_type": "code",
   "execution_count": null,
   "metadata": {},
   "outputs": [],
   "source": [
    "df.info()"
   ]
  },
  {
   "cell_type": "markdown",
   "metadata": {},
   "source": [
    "Quantidade de linhas e colunas"
   ]
  },
  {
   "cell_type": "code",
   "execution_count": null,
   "metadata": {},
   "outputs": [],
   "source": [
    "df.shape"
   ]
  },
  {
   "cell_type": "markdown",
   "metadata": {},
   "source": [
    "Vendo os cinco primeiros e ultimos dados"
   ]
  },
  {
   "cell_type": "code",
   "execution_count": null,
   "metadata": {},
   "outputs": [],
   "source": [
    "df.head()"
   ]
  },
  {
   "cell_type": "code",
   "execution_count": null,
   "metadata": {},
   "outputs": [],
   "source": [
    "df.tail()"
   ]
  },
  {
   "cell_type": "markdown",
   "metadata": {},
   "source": [
    "Contagem de valores ausentes"
   ]
  },
  {
   "cell_type": "code",
   "execution_count": null,
   "metadata": {},
   "outputs": [],
   "source": [
    "df[df.isna()].count()"
   ]
  },
  {
   "cell_type": "code",
   "execution_count": null,
   "metadata": {},
   "outputs": [],
   "source": [
    "df[df.isnull()].count()"
   ]
  },
  {
   "cell_type": "markdown",
   "metadata": {},
   "source": [
    "Não há valores ausentes"
   ]
  },
  {
   "cell_type": "markdown",
   "metadata": {},
   "source": [
    "Valores unicos de cada coluna"
   ]
  },
  {
   "cell_type": "code",
   "execution_count": null,
   "metadata": {},
   "outputs": [],
   "source": [
    "for col in df.columns:\n",
    "    print(f\"Coluna: {col}\")\n",
    "    print(f\"valores: {sorted(df[col].unique().tolist())}\")"
   ]
  },
  {
   "cell_type": "markdown",
   "metadata": {},
   "source": [
    "Anos de 2022-2024\n",
    "\n",
    "27 Distribuidores\n",
    "\n",
    "390 produtos id\n",
    "\n",
    "5 Regiões\n",
    "\n",
    "3 atributos para atributo 1 e 2\n",
    "\n",
    "44 atributos para atributo 3"
   ]
  },
  {
   "cell_type": "markdown",
   "metadata": {},
   "source": [
    "Attr"
   ]
  },
  {
   "cell_type": "code",
   "execution_count": null,
   "metadata": {},
   "outputs": [],
   "source": [
    "df.groupby(by='product_attr_1')[\"product_attr_2\"].describe()"
   ]
  },
  {
   "cell_type": "markdown",
   "metadata": {},
   "source": [
    "Produto com **product_attr_1** *'A'* só tem **product_attr_2** *'A'*\n",
    "\n",
    "Produto com **product_attr_1** *'B'* só tem **product_attr_2** *'C'*\n",
    "\n",
    "Produto com **product_attr_1** *'C'* só tem **product_attr_2** *'A', 'B' e 'C'*"
   ]
  },
  {
   "cell_type": "code",
   "execution_count": null,
   "metadata": {},
   "outputs": [],
   "source": [
    "print(df.groupby(by='product_attr_1')[\"units_qty\"].describe())"
   ]
  },
  {
   "cell_type": "code",
   "execution_count": null,
   "metadata": {},
   "outputs": [],
   "source": [
    "print(df.groupby(by='product_attr_2')[\"units_qty\"].describe())"
   ]
  },
  {
   "cell_type": "code",
   "execution_count": null,
   "metadata": {},
   "outputs": [],
   "source": [
    "print(df.groupby(by='product_attr_3')[\"units_qty\"].describe())"
   ]
  },
  {
   "cell_type": "code",
   "execution_count": null,
   "metadata": {},
   "outputs": [],
   "source": [
    "for attr in [\"A\",\"B\",\"C\"]:\n",
    "    for attr_2 in df.query(f\"product_attr_1 == '{attr}'\")[\"product_attr_2\"].unique().tolist():\n",
    "        df_filtro = df.query(f\"product_attr_1 == '{attr}' and product_attr_2 == '{attr_2}'\")\n",
    "        print(f\"Attr_1: {attr}\\nAttr_2: {attr_2}\\nAttr_3: {df_filtro['product_attr_3'].unique().tolist()}\\nproduct_id: {df_filtro['product_id'].unique().tolist()}\")\n",
    "    print(\"*********************************************************************************************\")"
   ]
  },
  {
   "cell_type": "code",
   "execution_count": null,
   "metadata": {},
   "outputs": [],
   "source": [
    "for attr in [\"A\",\"B\",\"C\"]:\n",
    "    for attr_2 in df.query(f\"product_attr_1 == '{attr}'\")[\"product_attr_2\"].unique().tolist():\n",
    "        df_filtro = df.query(f\"product_attr_1 == '{attr}' and product_attr_2 == '{attr_2}'\")[\"product_attr_3\"]\n",
    "        ordem = df.query(f\"product_attr_1 == '{attr}' and product_attr_2 == '{attr_2}'\")[\"product_attr_3\"].value_counts().index\n",
    "        fig = px.histogram(df_filtro, title=f\"Attr_1 - '{attr}' | Attr_2 - '{attr_2}'\",x=\"product_attr_3\",category_orders={\"product_attr_3\":ordem})\n",
    "        fig.update_xaxes(title='Attrs_3')\n",
    "        fig.update_yaxes(title='Quantidade')\n",
    "        fig.update_layout(showlegend=False)\n",
    "        fig.write_html(f\"product_att/{attr}_{attr_2}.html\")"
   ]
  },
  {
   "cell_type": "markdown",
   "metadata": {},
   "source": [
    "product_id"
   ]
  },
  {
   "cell_type": "code",
   "execution_count": null,
   "metadata": {},
   "outputs": [],
   "source": [
    "df.groupby(by='product_id')[\"product_attr_1\"].describe()"
   ]
  },
  {
   "cell_type": "code",
   "execution_count": null,
   "metadata": {},
   "outputs": [],
   "source": [
    "df.groupby(by='product_id')[\"product_attr_2\"].describe()"
   ]
  },
  {
   "cell_type": "code",
   "execution_count": null,
   "metadata": {},
   "outputs": [],
   "source": [
    "df.groupby(by='product_id')[\"product_attr_3\"].describe()"
   ]
  },
  {
   "cell_type": "code",
   "execution_count": null,
   "metadata": {},
   "outputs": [],
   "source": [
    "df.groupby(by='product_id')[\"region_nm\"].describe()"
   ]
  },
  {
   "cell_type": "code",
   "execution_count": null,
   "metadata": {},
   "outputs": [],
   "source": [
    "df.groupby(by='product_id')[\"dsupp_id\"].describe()"
   ]
  },
  {
   "cell_type": "code",
   "execution_count": null,
   "metadata": {},
   "outputs": [],
   "source": [
    "df.groupby(by='product_id')[\"units_qty\"].describe()"
   ]
  },
  {
   "cell_type": "markdown",
   "metadata": {},
   "source": [
    "Regiao"
   ]
  },
  {
   "cell_type": "code",
   "execution_count": null,
   "metadata": {},
   "outputs": [],
   "source": [
    "df.groupby(by='region_nm')['product_attr_1'].describe()"
   ]
  },
  {
   "cell_type": "code",
   "execution_count": null,
   "metadata": {},
   "outputs": [],
   "source": [
    "df.groupby(by='region_nm')['product_attr_2'].describe()"
   ]
  },
  {
   "cell_type": "code",
   "execution_count": null,
   "metadata": {},
   "outputs": [],
   "source": [
    "df.groupby(by='region_nm')['product_attr_3'].describe()"
   ]
  },
  {
   "cell_type": "code",
   "execution_count": null,
   "metadata": {},
   "outputs": [],
   "source": [
    "df.groupby(by='region_nm')['units_qty'].describe()"
   ]
  },
  {
   "cell_type": "code",
   "execution_count": null,
   "metadata": {},
   "outputs": [],
   "source": [
    "for region in df[\"region_nm\"].unique().tolist():\n",
    "    df_filtro = df.query(f\"region_nm == '{region}'\")\n",
    "    ordem = sorted(df[\"product_id\"].unique().tolist())\n",
    "    fig = px.histogram(df_filtro, title=f\"Região - '{region}'\",x=\"product_id\",category_orders={\"product_id\":ordem})\n",
    "    fig.update_xaxes(title='region_nm')\n",
    "    fig.update_yaxes(title='Quantidade')\n",
    "    fig.update_layout(showlegend=False)\n",
    "    fig.write_html(f\"product/{region}.html\")\n",
    "    del df_filtro\n",
    "    del ordem"
   ]
  },
  {
   "cell_type": "code",
   "execution_count": null,
   "metadata": {},
   "outputs": [],
   "source": [
    "df.groupby(by=['region_nm'])['units_qty'].sum()"
   ]
  },
  {
   "cell_type": "markdown",
   "metadata": {},
   "source": [
    "Nordeste tem 2ª maior frequência(gráfico de barra), mas é a 3ª que mais vendeu em quantidade de produto\n",
    "\n",
    "Norte que foi última na frequência(gráfico de barra), mais foi a 4ª que mais vendeu\n",
    "\n",
    "grafico/bar_region_nm.html"
   ]
  },
  {
   "cell_type": "code",
   "execution_count": null,
   "metadata": {},
   "outputs": [],
   "source": [
    "for region in df[\"region_nm\"].unique().tolist():\n",
    "    df_filtro = df.query(f\"region_nm == '{region}'\")\n",
    "    freq_df = df_filtro[\"dsupp_id\"].value_counts().reset_index()\n",
    "    freq_df.columns = [\"dsupp_id\", \"count\"]\n",
    "    ordem = sorted(df[\"dsupp_id\"].unique().tolist())\n",
    "    fig = px.bar(freq_df, title=f\"Região - '{region}'\",x=\"dsupp_id\",y='count',category_orders={\"dsupp_id\":ordem})\n",
    "    fig.update_xaxes(title='dsupp_id')\n",
    "    fig.update_yaxes(title='Quantidade')\n",
    "    fig.update_layout(showlegend=False)\n",
    "    fig.write_html(f\"dsupp_id/{region}.html\")\n",
    "    del df_filtro\n",
    "    del freq_df\n",
    "    del ordem"
   ]
  },
  {
   "cell_type": "code",
   "execution_count": null,
   "metadata": {},
   "outputs": [],
   "source": [
    "import scipy.stats as ss\n",
    "import numpy as np"
   ]
  },
  {
   "cell_type": "code",
   "execution_count": null,
   "metadata": {},
   "outputs": [],
   "source": [
    "def test_chi2(a: object,b: object):\n",
    "    chi2, p, _, _  = ss.chi2_contingency(pd.crosstab(a, b))\n",
    "    if p > 0.05:\n",
    "        print(f\"Variaveis independentes. \\nchi2: {chi2}\\np: {p}\")\n",
    "    else:\n",
    "        print(f\"Variaveis independentes. \\nchi2: {chi2}\\np: {p}\")"
   ]
  },
  {
   "cell_type": "code",
   "execution_count": null,
   "metadata": {},
   "outputs": [],
   "source": [
    "test_chi2(df['dsupp_id'],df['product_id'])\n",
    "print(\"***************************************\")\n",
    "test_chi2(df['dsupp_id'],df['region_nm'])\n",
    "print(\"***************************************\")\n",
    "test_chi2(df['dsupp_id'],df['product_attr_1'])\n",
    "print(\"***************************************\")\n",
    "test_chi2(df['dsupp_id'],df['product_attr_2'])\n",
    "print(\"***************************************\")\n",
    "test_chi2(df['dsupp_id'],df['product_attr_3'])"
   ]
  },
  {
   "cell_type": "code",
   "execution_count": null,
   "metadata": {},
   "outputs": [],
   "source": [
    "test_chi2(df['product_id'],df['region_nm'])\n",
    "print(\"***************************************\")\n",
    "test_chi2(df['product_id'],df['product_attr_1'])\n",
    "print(\"***************************************\")\n",
    "test_chi2(df['product_id'],df['product_attr_2'])\n",
    "print(\"***************************************\")\n",
    "test_chi2(df['product_id'],df['product_attr_3'])"
   ]
  },
  {
   "cell_type": "code",
   "execution_count": null,
   "metadata": {},
   "outputs": [],
   "source": [
    "test_chi2(df['region_nm'],df['product_attr_1'])\n",
    "print(\"***************************************\")\n",
    "test_chi2(df['region_nm'],df['product_attr_2'])\n",
    "print(\"***************************************\")\n",
    "test_chi2(df['region_nm'],df['product_attr_3'])"
   ]
  },
  {
   "cell_type": "markdown",
   "metadata": {},
   "source": [
    "Análise de Variância"
   ]
  },
  {
   "cell_type": "code",
   "execution_count": null,
   "metadata": {},
   "outputs": [],
   "source": [
    "def test_anova(df: object,col_a:object,col_b:object):    \n",
    "    grupos = [df[df[col_a] == p][col_b] for p in df[col_a].unique()]\n",
    "    f_stat, p_value = ss.f_oneway(*grupos)\n",
    "    if p_value > 0.05:\n",
    "        print(f\"Não há diferença significativas. \\nEstatística F: {f_stat}\\np: {p_value}\")\n",
    "    else:\n",
    "        print(f\"Há diferença significativas. \\nEstatística F: {f_stat}\\np: {p_value}\")\n"
   ]
  },
  {
   "cell_type": "code",
   "execution_count": null,
   "metadata": {},
   "outputs": [],
   "source": [
    "test_anova(df,'product_id','units_qty')\n",
    "print(\"***************************************\")\n",
    "test_anova(df,'dsupp_id','units_qty')\n",
    "print(\"***************************************\")\n",
    "test_anova(df,'region_nm','units_qty')"
   ]
  },
  {
   "cell_type": "markdown",
   "metadata": {},
   "source": []
  },
  {
   "cell_type": "code",
   "execution_count": null,
   "metadata": {},
   "outputs": [],
   "source": [
    "for col in df.columns:\n",
    "    ordem = df[col].value_counts().index    \n",
    "\n",
    "    if pd.api.types.is_datetime64_any_dtype(df[col]):\n",
    "        df[col] = df[col].astype(str)\n",
    "        ordem = df[col].value_counts().index\n",
    "        df[col] = pd.Categorical(df[col], categories=ordem, ordered=True)\n",
    "    elif pd.api.types.is_numeric_dtype(df[col]):\n",
    "        df[col] = df[col].astype(str)\n",
    "        ordem = df[col].value_counts().index\n",
    "        df[col] = pd.Categorical(df[col], categories=ordem, ordered=True)\n",
    "    else:\n",
    "        df[col] = pd.Categorical(df[col], categories=ordem, ordered=True)\n",
    "\n",
    "    fig = px.histogram(df,x=col,title=f\"Gráfico de Barra da Coluna - '{col}'\", \n",
    "                        category_orders={col: ordem})    \n",
    "    fig.update_xaxes(title=col, tickangle=45)\n",
    "    fig.update_yaxes(title='Quantidade')\n",
    "    fig.update_layout(showlegend=False)    \n",
    "    fig.write_html(f\"grafico/bar_{col}.html\")\n",
    "    del ordem"
   ]
  }
 ],
 "metadata": {
  "kernelspec": {
   "display_name": "iqvia",
   "language": "python",
   "name": "python3"
  },
  "language_info": {
   "codemirror_mode": {
    "name": "ipython",
    "version": 3
   },
   "file_extension": ".py",
   "mimetype": "text/x-python",
   "name": "python",
   "nbconvert_exporter": "python",
   "pygments_lexer": "ipython3",
   "version": "3.12.9"
  }
 },
 "nbformat": 4,
 "nbformat_minor": 2
}
